{
 "cells": [
  {
   "cell_type": "markdown",
   "metadata": {},
   "source": [
    "## Importing Libraries"
   ]
  },
  {
   "cell_type": "code",
   "execution_count": null,
   "metadata": {},
   "outputs": [],
   "source": [
    "import matplotlib.pyplot as plt\n",
    "import numpy as np\n",
    "import cv2\n",
    "import os\n",
    "import easyocr\n",
    "from PIL import Image\n",
    "import glob\n",
    "import promptlib\n",
    "from time import sleep\n",
    "from tqdm.auto import tqdm\n",
    "from progress.bar import Bar\n",
    "import glob\n",
    "import re\n",
    "from collections import OrderedDict\n",
    "import string\n",
    "import csv\n",
    "import pandas as pd\n",
    "reader=easyocr.Reader(['en'])\n",
    "import time\n"
   ]
  },
  {
   "cell_type": "markdown",
   "metadata": {},
   "source": [
    "### Framing Function"
   ]
  },
  {
   "cell_type": "code",
   "execution_count": 18,
   "metadata": {},
   "outputs": [],
   "source": [
    "def getFrame(sec,file_name,count):\n",
    "    vidcap = cv2.VideoCapture(file_name)\n",
    "    vidcap.set(cv2.CAP_PROP_POS_MSEC,sec*1000)\n",
    "    hasFrames,image = vidcap.read()\n",
    "    if hasFrames:\n",
    "        cv2.imwrite(r\"E:\\MS 4th Semester\\Thesis\\1st Meeting (8th Jan)\\Syed Irtza Akhtar Bukhari - OCR patient monitor\\irtza\\frames\"+str(count)+\".jpg\", image)     # save frame as JPG file\n",
    "    return hasFrames"
   ]
  },
  {
   "cell_type": "markdown",
   "metadata": {},
   "source": [
    "### Pre Processing (HSV, Color Masking, Finding Countours)"
   ]
  },
  {
   "cell_type": "code",
   "execution_count": 19,
   "metadata": {},
   "outputs": [],
   "source": [
    "def hsv_conversion(image):\n",
    "    hsv_frame=cv2.cvtColor(image,cv2.COLOR_BGR2HSV)\n",
    "    return hsv_frame"
   ]
  },
  {
   "cell_type": "code",
   "execution_count": 20,
   "metadata": {},
   "outputs": [],
   "source": [
    "def get_green_mask(hsv_frame,image):\n",
    "    low_green=np.array([50, 25, 25])       #low green threshold value for green color masking  (Can manually adjust)\n",
    "    high_green=np.array([70, 255,255])     #High green threshold value for green color masking (Can manually adjust)\n",
    "    mask_green=cv2.inRange(hsv_frame,low_green,high_green)\n",
    "    green=cv2.bitwise_and(image,image,mask=mask_green)\n",
    "    return green"
   ]
  },
  {
   "cell_type": "code",
   "execution_count": 21,
   "metadata": {},
   "outputs": [],
   "source": [
    "def get_yellow_mask(hsv_frame,image):\n",
    "    low_yellow=np.array([25, 80, 80])     #low yellow threshold value for yellow color masking  (Can manually adjust)\n",
    "    high_yellow=np.array([40, 255, 255])  #High yellow threshold value for yellow color masking  (Can manually adjust)\n",
    "    mask_yellow=cv2.inRange(hsv_frame,low_yellow,high_yellow)\n",
    "    yellow=cv2.bitwise_and(image,image,mask=mask_yellow)\n",
    "    return yellow"
   ]
  },
  {
   "cell_type": "code",
   "execution_count": 22,
   "metadata": {},
   "outputs": [],
   "source": [
    "def get_red_mask(hsv_frame,image):\n",
    "    low_red1=np.array([0, 70, 50])        #Red threshold value for red color masking  (Can manually adjust)\n",
    "    high_red1=np.array([10, 255, 255])\n",
    "    low_red2=np.array([170, 70, 50])\n",
    "    high_red2=np.array([180, 255, 255])\n",
    "\n",
    "    mask_red1=cv2.inRange(hsv_frame,low_red1,high_red1)\n",
    "    mask_red2=cv2.inRange(hsv_frame,low_red2,high_red2)\n",
    "    mask_red=mask_red1|mask_red2\n",
    "    red=cv2.bitwise_and(image,image,mask=mask_red)\n",
    "    return red"
   ]
  },
  {
   "cell_type": "code",
   "execution_count": 72,
   "metadata": {},
   "outputs": [],
   "source": [
    "def get_white_mask(hsv_frame,image):\n",
    "    low_white=np.array([0,0,168])      #White color masking\n",
    "    high_white=np.array([172,111,255])\n",
    "    mask_white=cv2.inRange(hsv_frame,low_white,high_white)\n",
    "    white=cv2.bitwise_and(image,image,mask=mask_white)\n",
    "    return white"
   ]
  },
  {
   "cell_type": "code",
   "execution_count": 24,
   "metadata": {},
   "outputs": [],
   "source": [
    "def numericalSort(value):\n",
    "    numbers = re.compile(r'(\\d+)')\n",
    "    parts = numbers.split(value)\n",
    "    parts[1::2] = map(int, parts[1::2])\n",
    "    return parts"
   ]
  },
  {
   "cell_type": "markdown",
   "metadata": {},
   "source": [
    "### OCR Implementation (Detecting Headers)\n",
    "#### Functions to detect only the alphanumeric characters which we could save as the main header of the key paramter in a dataframe"
   ]
  },
  {
   "cell_type": "code",
   "execution_count": 25,
   "metadata": {},
   "outputs": [],
   "source": [
    "def get_mix_strings(item):\n",
    "    for ch in item:\n",
    "        if not ch.isalpha():\n",
    "            if not ch.isdigit():\n",
    "                return False\n",
    "    return True\n",
    "\n",
    "def get_all_num(item):\n",
    "    return all([ch.isdigit() for ch in item])\n",
    "\n",
    "def get_all_alpha(item):\n",
    "    return all([ch.isalpha() for ch in item])"
   ]
  },
  {
   "cell_type": "code",
   "execution_count": 106,
   "metadata": {},
   "outputs": [],
   "source": [
    "def OCR_header(color):\n",
    "    result = reader.readtext(color,min_size= 25,detail=0,text_threshold=0.90)  #Apply easyOCR to detect all the characters\n",
    "    final_header = []\n",
    "    for item in result:\n",
    "        if get_all_num(item):\n",
    "            continue\n",
    "        elif get_mix_strings(item):\n",
    "            final_header.append(item)\n",
    "        elif get_all_alpha(item):\n",
    "            final_header.append((item))\n",
    "            \n",
    "    return final_header"
   ]
  },
  {
   "cell_type": "markdown",
   "metadata": {},
   "source": [
    "### OCR Implementation (Detecting Values against headers)"
   ]
  },
  {
   "cell_type": "code",
   "execution_count": 121,
   "metadata": {},
   "outputs": [],
   "source": [
    "def OCR_values(color):\n",
    "    result = reader.readtext(color,min_size= 80,detail=0,text_threshold=0.90)\n",
    "    value = [x for x in result if all(x1.isdigit() for x1 in x)]   #Select only digit values to store in a corresponding key\n",
    "    return value"
   ]
  },
  {
   "cell_type": "markdown",
   "metadata": {},
   "source": [
    "### Header Dataframe Function"
   ]
  },
  {
   "cell_type": "code",
   "execution_count": 46,
   "metadata": {},
   "outputs": [],
   "source": [
    "def get_headers_dataframe(header_color):\n",
    "    final_header=['HR','Tperi','Tblood','Pulse','SpO2','ABP','PAP','etCO2','awRR','NBP','etCO2','mCO2']\n",
    "    header=[]\n",
    "    for i in header_color:\n",
    "        for j in final_header:\n",
    "            if i==j:\n",
    "                header.append(j)\n",
    "    \n",
    "    header=list(OrderedDict.fromkeys(header))\n",
    "    df = pd.DataFrame(columns = header)\n",
    "    return df,header"
   ]
  },
  {
   "cell_type": "markdown",
   "metadata": {},
   "source": [
    "### Numeric Values in dataframe"
   ]
  },
  {
   "cell_type": "code",
   "execution_count": 130,
   "metadata": {},
   "outputs": [],
   "source": [
    "def df_values(df,header,value):\n",
    "    \n",
    "    if len(value)<len(header):\n",
    "        value.extend([str(0)]*(len(header)-len(value)))\n",
    "    length_df = len(df)\n",
    "    df.loc[length_df] = value[:len(header)]\n",
    "    return df"
   ]
  },
  {
   "cell_type": "markdown",
   "metadata": {},
   "source": [
    "### Main function to call Preprocessing and OCR "
   ]
  },
  {
   "cell_type": "code",
   "execution_count": 125,
   "metadata": {},
   "outputs": [],
   "source": [
    "def main():\n",
    "    prompter = promptlib.Files()\n",
    "    file_name = prompter.file()\n",
    "    sec = 0\n",
    "    frameRate = 1 #//it will capture one image in each 1 second\n",
    "    count=1\n",
    "    success = getFrame(sec,file_name,count)\n",
    "    while success:\n",
    "        count = count + 1\n",
    "        sec = sec + frameRate\n",
    "        sec = round(sec, 2)\n",
    "        success = getFrame(sec,file_name,count)\n",
    "    # Color masking and OCR implementation to create dataframe and make headers (One time process only)   \n",
    "    print(\"Framing done\")\n",
    "    image_header=cv2.imread(r'E:\\MS 4th Semester\\Thesis\\1st Meeting (8th Jan)\\Syed Irtza Akhtar Bukhari - OCR patient monitor\\irtza\\frames200.jpg')\n",
    "    hsv_frame=hsv_conversion(image_header)\n",
    "    green=get_green_mask(hsv_frame,image_header)\n",
    "    red=get_red_mask(hsv_frame,image_header)\n",
    "    yellow=get_yellow_mask(hsv_frame,image_header)\n",
    "    white=get_white_mask(hsv_frame,image_header)\n",
    "    header_green=OCR_header(color=green)\n",
    "    header_red=OCR_header(color=red)\n",
    "    header_yellow=OCR_header(color=yellow)\n",
    "    header_white=OCR_header(color=white)\n",
    "    \n",
    "    df_red,hd_red=get_headers_dataframe(header_red)\n",
    "    df_yellow,hd_yellow=get_headers_dataframe(header_yellow)\n",
    "    df_white,hd_white=get_headers_dataframe(header_white)\n",
    "    df_green,hd_green=get_headers_dataframe(header_green)\n",
    "    \n",
    "    # Save all numeric values of corresponding headers detected earlier to update dataframe \n",
    "    for infile in sorted(glob.glob(r'E:\\MS 4th Semester\\Thesis\\1st Meeting (8th Jan)\\Syed Irtza Akhtar Bukhari - OCR patient monitor\\irtza\\*.jpg'), key=numericalSort):\n",
    "        image = cv2.imread(infile)\n",
    "\n",
    "        hsv_frame=hsv_conversion(image)\n",
    "        green=get_green_mask(hsv_frame,image)\n",
    "        red=get_red_mask(hsv_frame,image)\n",
    "        yellow=get_yellow_mask(hsv_frame,image)\n",
    "        white=get_white_mask(hsv_frame,image)\n",
    "        \n",
    "        green_value=OCR_values(green)\n",
    "        red_value=OCR_values(red)\n",
    "        yellow_value=OCR_values(yellow)\n",
    "        white_value=OCR_values(white)\n",
    "        \n",
    "        df_green=df_values(df_green,hd_green,green_value)\n",
    "        df_red=df_values(df_red,hd_red,red_value)\n",
    "        df_yellow=df_values(df_yellow,hd_yellow,yellow_value)\n",
    "        df_white=df_values(df_white,hd_white,white_value)\n",
    "    # Save the dataframe into .csv file.\n",
    "    df=pd.concat([df_green,df_yellow,df_red,df_white],axis=1)\n",
    "    df.to_csv(r'E:\\MS 4th Semester\\Thesis\\1st Meeting (8th Jan)\\Syed Irtza Akhtar Bukhari - OCR patient monitor\\irtza\\Output.csv', index = False)\n",
    "    \n",
    "    return df"
   ]
  },
  {
   "cell_type": "code",
   "execution_count": null,
   "metadata": {},
   "outputs": [],
   "source": [
    "start = time.time()\n",
    "df=main()\n",
    "end= time.time()\n",
    "print (end-start)"
   ]
  },
  {
   "cell_type": "markdown",
   "metadata": {},
   "source": [
    "# Optional work"
   ]
  },
  {
   "cell_type": "markdown",
   "metadata": {},
   "source": [
    "### Finding out the bounding boxes in the image"
   ]
  },
  {
   "cell_type": "code",
   "execution_count": 119,
   "metadata": {},
   "outputs": [],
   "source": [
    "image = cv2.imread(r'E:\\MS 4th Semester\\Thesis\\1st Meeting (8th Jan)\\Syed Irtza Akhtar Bukhari - OCR patient monitor\\irtza\\frames58.jpg')\n",
    "hsv_frame=hsv_conversion(image)\n",
    "green=get_green_mask(hsv_frame,image)\n",
    "red=get_red_mask(hsv_frame,image)\n",
    "yellow=get_yellow_mask(hsv_frame,image)\n",
    "white=get_white_mask(hsv_frame,image)"
   ]
  },
  {
   "cell_type": "code",
   "execution_count": null,
   "metadata": {},
   "outputs": [],
   "source": [
    "res = reader.readtext(white,min_size= 80,text_threshold=0.90)\n",
    "\n",
    "for (bbox, text, prob) in res: \n",
    "    (tl, tr, br, bl) = bbox\n",
    "    tl = (int(tl[0]), int(tl[1]))\n",
    "    tr = (int(tr[0]), int(tr[1]))\n",
    "    br = (int(br[0]), int(br[1]))\n",
    "    bl = (int(bl[0]), int(bl[1]))\n",
    "    cv2.rectangle(white, tl, br, (0, 255, 0), 2)\n",
    "#     cv2.putText(red, text, (tl[0], tl[1] - 10),\n",
    "#                 cv2.FONT_HERSHEY_SIMPLEX, 0.6, (255, 0, 0), 2)\n",
    "plt.rcParams['figure.figsize'] = (16,16)\n",
    "imS = cv2.resize(white, (1000, 600)) \n",
    "cv2.imshow('Bounding Rectangle',imS)\n",
    "cv2.waitKey(0)"
   ]
  }
 ],
 "metadata": {
  "kernelspec": {
   "display_name": "Python 3",
   "language": "python",
   "name": "python3"
  },
  "language_info": {
   "codemirror_mode": {
    "name": "ipython",
    "version": 3
   },
   "file_extension": ".py",
   "mimetype": "text/x-python",
   "name": "python",
   "nbconvert_exporter": "python",
   "pygments_lexer": "ipython3",
   "version": "3.8.5"
  }
 },
 "nbformat": 4,
 "nbformat_minor": 4
}
